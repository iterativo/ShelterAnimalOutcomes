{
 "cells": [
  {
   "cell_type": "code",
   "execution_count": 4,
   "metadata": {
    "collapsed": true
   },
   "outputs": [],
   "source": [
    "import tensorflow as tf"
   ]
  },
  {
   "cell_type": "markdown",
   "metadata": {},
   "source": [
    "[Loading tensors from csv](https://www.tensorflow.org/versions/r0.9/how_tos/reading_data/index.html#file-formats)"
   ]
  },
  {
   "cell_type": "code",
   "execution_count": 5,
   "metadata": {
    "collapsed": true
   },
   "outputs": [],
   "source": [
    "filename_queue = tf.train.string_input_producer([\"./files/train.csv\"])"
   ]
  },
  {
   "cell_type": "code",
   "execution_count": 6,
   "metadata": {
    "collapsed": false
   },
   "outputs": [],
   "source": [
    "reader = tf.TextLineReader()"
   ]
  },
  {
   "cell_type": "code",
   "execution_count": 7,
   "metadata": {
    "collapsed": false
   },
   "outputs": [],
   "source": [
    "key, value = reader.read(filename_queue)"
   ]
  },
  {
   "cell_type": "code",
   "execution_count": 8,
   "metadata": {
    "collapsed": false
   },
   "outputs": [],
   "source": [
    "# Default values, in case of empty columns\n",
    "record_defaults = [[\"ID\"], [\"NA\"], [\"2014-01-01 00:00:00\"], [\"\"], [\"\"], \n",
    "                   [\"Dog\"], [\"Unknown\"], [\"1 year\"], [\"NA\"], [\"NA\"]]"
   ]
  },
  {
   "cell_type": "code",
   "execution_count": 9,
   "metadata": {
    "collapsed": false
   },
   "outputs": [],
   "source": [
    "animal_id, name, date_time, outcome_type, outcome_subtype, animal_type, sex_upon_outcome, age_upon_outcome, breed, color = tf.decode_csv(\n",
    "        value, record_defaults=record_defaults)"
   ]
  },
  {
   "cell_type": "markdown",
   "metadata": {},
   "source": [
    "##### Features Definition\n",
    "\n",
    "The following attrs will be ignored:\n",
    "\n",
    "- AnimalID: for obvious reasons.\n",
    "- Name: we will need a need to quantify this before we can consider it as a feature (e.g., ranking based on name popularity, or \"sounds like\" popular name).\n",
    "- DateTime: it appears to represent the date at which the outcome was recorded. Unless we can correlate that to external events that could potentially correlate with adoption rates (e.g., economy downturns, employment rates, etc.), this attribute won't provide much value in predicting future outcomes. In fact, it could potentially add noise to the model.\n",
    "- OutcomeType: this is what we want to predict.\n",
    "- OutcomeSubtype: may be another predictable state.\n",
    "\n",
    "The following attrs will be included:\n",
    "\n",
    "- AnimalType -> Convert to enum\n",
    "- SexUponOutcome -> Convert to enum\n",
    "- AgeUponOutcome -> Convert to float\n",
    "- Breed -> Convert to enum\n",
    "- Color -> Convert to enum"
   ]
  },
  {
   "cell_type": "code",
   "execution_count": 10,
   "metadata": {
    "collapsed": true
   },
   "outputs": [],
   "source": [
    "feature_attrs = [animal_type, sex_upon_outcome, age_upon_outcome, breed, color]\n",
    "features = tf.pack(feature_attrs)"
   ]
  },
  {
   "cell_type": "markdown",
   "metadata": {},
   "source": [
    "##### Possible predictions\n",
    "\n",
    "The idea is to get a probability distribution of each possible outcome.\n",
    "\n",
    "- OutcomeType:\n",
    "    - Return_to_owner\n",
    "    - Euthanasia\n",
    "    - Adoption\n",
    "    - Transfer\n",
    "    - Died"
   ]
  },
  {
   "cell_type": "code",
   "execution_count": 11,
   "metadata": {
    "collapsed": true
   },
   "outputs": [],
   "source": [
    "num_possible_outcomes = 5"
   ]
  },
  {
   "cell_type": "markdown",
   "metadata": {},
   "source": [
    "##### Variables"
   ]
  },
  {
   "cell_type": "code",
   "execution_count": 12,
   "metadata": {
    "collapsed": false,
    "scrolled": true
   },
   "outputs": [],
   "source": [
    "x = tf.placeholder(tf.float32, [None, len(feature_attrs)]) # maybe not float32 ... may need different types for each feature\n",
    "W = tf.Variable(tf.zeros([len(feature_attrs), num_possible_outcomes]))\n",
    "b = tf.Variable(tf.zeros([num_possible_outcomes]))\n",
    "y_ = tf.placeholder(tf.float32, [None, num_possible_outcomes])"
   ]
  },
  {
   "cell_type": "markdown",
   "metadata": {},
   "source": [
    "##### Model"
   ]
  },
  {
   "cell_type": "code",
   "execution_count": 13,
   "metadata": {
    "collapsed": true
   },
   "outputs": [],
   "source": [
    "y = tf.nn.softmax(tf.matmul(x, W) + b)"
   ]
  },
  {
   "cell_type": "markdown",
   "metadata": {},
   "source": [
    "##### Cost function"
   ]
  },
  {
   "cell_type": "code",
   "execution_count": 14,
   "metadata": {
    "collapsed": true
   },
   "outputs": [],
   "source": [
    "cross_entropy = tf.reduce_mean(-tf.reduce_sum(y_ * tf.log(y), reduction_indices=[1]))"
   ]
  },
  {
   "cell_type": "markdown",
   "metadata": {},
   "source": [
    "##### Training"
   ]
  },
  {
   "cell_type": "code",
   "execution_count": 15,
   "metadata": {
    "collapsed": true
   },
   "outputs": [],
   "source": [
    "learning_rate = 0.5\n",
    "train_step = tf.train.GradientDescentOptimizer(learning_rate).minimize(cross_entropy)"
   ]
  },
  {
   "cell_type": "markdown",
   "metadata": {},
   "source": [
    "##### Running the calculations"
   ]
  },
  {
   "cell_type": "code",
   "execution_count": 16,
   "metadata": {
    "collapsed": true
   },
   "outputs": [],
   "source": [
    "epochs = 100 # increase eventually\n",
    "batch_size = 100\n",
    "init = tf.initialize_all_variables();\n",
    "sess = tf.Session()\n",
    "sess.run(init)\n",
    "# TODO Figure out how to load batches from train data\n",
    "# for i in range(epochs):\n",
    "#     batch_xs, batch_ys = "
   ]
  },
  {
   "cell_type": "code",
   "execution_count": null,
   "metadata": {
    "collapsed": true
   },
   "outputs": [],
   "source": []
  }
 ],
 "metadata": {
  "kernelspec": {
   "display_name": "Python 2",
   "language": "python",
   "name": "python2"
  },
  "language_info": {
   "codemirror_mode": {
    "name": "ipython",
    "version": 2
   },
   "file_extension": ".py",
   "mimetype": "text/x-python",
   "name": "python",
   "nbconvert_exporter": "python",
   "pygments_lexer": "ipython2",
   "version": "2.7.12"
  }
 },
 "nbformat": 4,
 "nbformat_minor": 0
}
